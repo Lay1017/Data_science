{
 "cells": [
  {
   "cell_type": "code",
   "execution_count": 1,
   "id": "dadd5146",
   "metadata": {},
   "outputs": [],
   "source": [
    "def promedio(n):\n",
    "    '''Funcion que retorna el promedio de una lista de numeros\n",
    "    \n",
    "    Entrada\n",
    "    -------\n",
    "    n : numeros a utilizar\n",
    "    \n",
    "    Salida\n",
    "    ------\n",
    "    promedio: Suma de todos los numeros dividida en su cantidad\n",
    "    '''\n",
    "    if len(n) == 0:\n",
    "        return 0\n",
    "    suma = sum(n)\n",
    "    prom = suma / len(n)\n",
    "    return prom"
   ]
  },
  {
   "cell_type": "code",
   "execution_count": null,
   "id": "c985e8db",
   "metadata": {},
   "outputs": [],
   "source": []
  }
 ],
 "metadata": {
  "kernelspec": {
   "display_name": "Python 3 (ipykernel)",
   "language": "python",
   "name": "python3"
  },
  "language_info": {
   "codemirror_mode": {
    "name": "ipython",
    "version": 3
   },
   "file_extension": ".py",
   "mimetype": "text/x-python",
   "name": "python",
   "nbconvert_exporter": "python",
   "pygments_lexer": "ipython3",
   "version": "3.8.10"
  }
 },
 "nbformat": 4,
 "nbformat_minor": 5
}
