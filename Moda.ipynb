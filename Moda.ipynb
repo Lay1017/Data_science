{
 "cells": [
  {
   "cell_type": "code",
   "execution_count": null,
   "id": "7e85e559",
   "metadata": {},
   "outputs": [],
   "source": [
    "def moda(x):\n",
    "    '''Función que retorna la moda de cierta cantidad de datos\n",
    "    \n",
    "    Entrada\n",
    "    -------\n",
    "    x : lista de datos\n",
    "    \n",
    "    Salida\n",
    "    ------\n",
    "    moda : str \n",
    "    '''\n",
    "    categorias = []\n",
    "    for i in x:\n",
    "        if i not in categorias:\n",
    "            categorias.append(i)\n",
    "    cuentas = []\n",
    "    for c in categorias:\n",
    "        n = 0\n",
    "        for val in x:\n",
    "            if val == c:\n",
    "                n = n+1\n",
    "        cuentas.append(n)\n",
    "        \n",
    "    i_max = 0\n",
    "    val_max = cuentas[0]\n",
    "    for m in range(1, len(cuentas)):\n",
    "        if cuentas[m] > val_max:\n",
    "            i_max = m\n",
    "            val_max = cuentas[m]\n",
    "            \n",
    "    moda = categorias[i_max]\n",
    "    \n",
    "    return moda"
   ]
  }
 ],
 "metadata": {
  "kernelspec": {
   "display_name": "Python 3 (ipykernel)",
   "language": "python",
   "name": "python3"
  },
  "language_info": {
   "codemirror_mode": {
    "name": "ipython",
    "version": 3
   },
   "file_extension": ".py",
   "mimetype": "text/x-python",
   "name": "python",
   "nbconvert_exporter": "python",
   "pygments_lexer": "ipython3",
   "version": "3.8.10"
  }
 },
 "nbformat": 4,
 "nbformat_minor": 5
}
