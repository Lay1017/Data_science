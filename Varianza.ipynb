{
 "cells": [
  {
   "cell_type": "code",
   "execution_count": 3,
   "id": "5f9d8b59",
   "metadata": {},
   "outputs": [],
   "source": [
    "def varianza(datos):\n",
    "    '''Funcion que retorna la varianza de una lista de numeros\n",
    "    Entrada\n",
    "    -------\n",
    "    datos: lista de numeros\n",
    "    \n",
    "    Salida\n",
    "    ------\n",
    "    Varianza: calcula la varianza dividiendo la suma de los cuadrados de las diferencias por el numero de datos\n",
    "    '''\n",
    "    media = sum(datos) / len(datos)\n",
    "    \n",
    "    suma = sum((x - media) ** 2 for x in datos)\n",
    "    \n",
    "    varianza = suma / len(datos)\n",
    "    \n",
    "    return varianza\n"
   ]
  },
  {
   "cell_type": "code",
   "execution_count": null,
   "id": "a1d5b44d",
   "metadata": {},
   "outputs": [],
   "source": []
  },
  {
   "cell_type": "code",
   "execution_count": null,
   "id": "39c03a04",
   "metadata": {},
   "outputs": [],
   "source": []
  }
 ],
 "metadata": {
  "kernelspec": {
   "display_name": "Python 3 (ipykernel)",
   "language": "python",
   "name": "python3"
  },
  "language_info": {
   "codemirror_mode": {
    "name": "ipython",
    "version": 3
   },
   "file_extension": ".py",
   "mimetype": "text/x-python",
   "name": "python",
   "nbconvert_exporter": "python",
   "pygments_lexer": "ipython3",
   "version": "3.8.10"
  }
 },
 "nbformat": 4,
 "nbformat_minor": 5
}
